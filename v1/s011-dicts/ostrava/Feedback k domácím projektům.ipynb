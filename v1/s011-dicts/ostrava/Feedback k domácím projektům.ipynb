{
 "cells": [
  {
   "cell_type": "markdown",
   "metadata": {},
   "source": [
    "## Optimalizace programu"
   ]
  },
  {
   "cell_type": "markdown",
   "metadata": {},
   "source": [
    "Program se dá napsat mnoha způsoby, ale některé z nich nemusí být hospodárné, co se využité paměti počítače a procesoru týče. V našem případě to ještě není tolik znát, ale kdybychom naše programy testovali na obrovských objemech dat, i malá změna programu může mít velký dopad na dobu trvání výpočtu."
   ]
  },
  {
   "cell_type": "markdown",
   "metadata": {},
   "source": [
    "### Příklad č. 1 - Optimalizace paměti"
   ]
  },
  {
   "cell_type": "markdown",
   "metadata": {},
   "source": [
    "V tomto řešení se nám nejdříve plní seznam dvojicemi a pak se z něj stane slovník. V určitou chvíli tedy máme v paměti počítače slovník i seznam zároveň. Pokud bychom chtěli počítat opravdu hodně mocnin, může se nám stát, že se nám slovník i se seznamem do paměti nevejdou."
   ]
  },
  {
   "cell_type": "code",
   "execution_count": 1,
   "metadata": {
    "collapsed": true
   },
   "outputs": [],
   "source": [
    "def slovnik_mocnin(n):\n",
    "    seznam = []\n",
    "    for x in range(1, n+1):\n",
    "        seznam.append((x, x**2))\n",
    "    slovnik = dict(seznam)\n",
    "    return slovnik"
   ]
  },
  {
   "cell_type": "markdown",
   "metadata": {},
   "source": [
    "### Správné řešení, kdy nám v paměti nezůstane společně se slovníkem i seznam dvojic"
   ]
  },
  {
   "cell_type": "markdown",
   "metadata": {},
   "source": [
    "V tomto řešení se nám plní slovník přímo daty a tak je tato funkce o zhruba o polovinu méně náročná na paměť."
   ]
  },
  {
   "cell_type": "code",
   "execution_count": 2,
   "metadata": {
    "collapsed": true
   },
   "outputs": [],
   "source": [
    "def slovnik_mocnin(n):\n",
    "    slovnik = {}\n",
    "    for x in range(1, n+1):\n",
    "        slovnik[x] = x**2\n",
    "    return slovnik"
   ]
  },
  {
   "cell_type": "markdown",
   "metadata": {},
   "source": [
    "### Příklad č. 2 - Optimalizace počtu operací"
   ]
  },
  {
   "cell_type": "markdown",
   "metadata": {},
   "source": [
    "Řádky kódu programu můžeme považovat za instrukce, které musí náš počítač vykonat. Když budeme psát programy nehospodárně, může se stát, že při počítání velkých dat se počítač hodně zapotí a program bude dlouho trvat. V tomto řešení počítáme klíče a hodnoty, ale slovník procházíme zbytečně dvakrát."
   ]
  },
  {
   "cell_type": "code",
   "execution_count": 3,
   "metadata": {
    "collapsed": true
   },
   "outputs": [],
   "source": [
    "def vypocitej_sumu(slovnik):\n",
    "    suma_klicu = 0\n",
    "    suma_hodnot = 0\n",
    "    for klic in slovnik:\n",
    "        suma_klicu = suma_klicu + klic\n",
    "    for hodnota in slovnik.values():\n",
    "        suma_hodnot = suma_hodnot + hodnota\n",
    "    return suma_klicu, suma_hodnot"
   ]
  },
  {
   "cell_type": "markdown",
   "metadata": {},
   "source": [
    "### Správné řešení, kdy nepotřebujeme procházet slovník dvakrát, ale provedeme to jen jednou"
   ]
  },
  {
   "cell_type": "code",
   "execution_count": 4,
   "metadata": {
    "collapsed": true
   },
   "outputs": [],
   "source": [
    "def vypocitej_sumu(slovnik):\n",
    "    suma_klicu = 0\n",
    "    suma_hodnot = 0\n",
    "    for klic, hodnota in slovnik.items():\n",
    "        suma_klicu = suma_klicu + klic\n",
    "        suma_hodnot = suma_hodnot + hodnota\n",
    "    return suma_klicu, suma_hodnot"
   ]
  },
  {
   "cell_type": "markdown",
   "metadata": {},
   "source": [
    "## Obecné rady a postřehy"
   ]
  },
  {
   "cell_type": "markdown",
   "metadata": {},
   "source": [
    "* Mezi jméno funkce a závorky mezeru nepíšeme\n",
    "* Pojmenovat funkci `funkce` opravdu není dobrý nápad\n",
    "* Více logiky programu na jedné hromadě může být lepší dát do funkce. Nemusíte psát jen funkce vyplývající ze zadání, ale i libovolné množství funkcí pomocných.\n",
    "* Pokud funkce nic nevrací, prázdný `return` můžeme vynechat.\n",
    "* Někdy je lepší uložit si výsledek funkce do proměnné a proměnnou použít v podmínce než napsat na jeden rádek\n",
    "    \n",
    "    `if zeptej_se('Chceš přejít k další otázce? A/N'):`"
   ]
  }
 ],
 "metadata": {
  "kernelspec": {
   "display_name": "Python 3",
   "language": "python",
   "name": "python3"
  },
  "language_info": {
   "codemirror_mode": {
    "name": "ipython",
    "version": 3
   },
   "file_extension": ".py",
   "mimetype": "text/x-python",
   "name": "python",
   "nbconvert_exporter": "python",
   "pygments_lexer": "ipython3",
   "version": "3.6.2"
  }
 },
 "nbformat": 4,
 "nbformat_minor": 2
}
