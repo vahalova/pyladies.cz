{
 "cells": [
  {
   "cell_type": "markdown",
   "metadata": {},
   "source": [
    "## Zpracování odpovědí od uživatele"
   ]
  },
  {
   "cell_type": "markdown",
   "metadata": {},
   "source": [
    "Zpracování odpovědi uživatele je tak trošku alchymie, protože ten může zadat cokoli si zamane a program by do jisté míry měl umět jeho zadání zpracovat. Nicméně není třeba počítat opravdu se všemi eventualitami."
   ]
  },
  {
   "cell_type": "code",
   "execution_count": null,
   "metadata": {},
   "outputs": [],
   "source": [
    "def odpoved_uzivatele(odpoved):\n",
    "    if odpoved == 'ano' or odpoved == 'ano'[0] or odpoved == 'ano'.upper() or odpoved == 'ano'.lower() or odpoved == ' ano '.strip():\n",
    "        return True\n",
    "    elif odpoved == 'ne' or odpoved == 'ne'[0] or odpoved == 'ne'.upper() or odpoved == 'ne'.lower() or odpoved == ' ne '.strip():\n",
    "        return False"
   ]
  },
  {
   "cell_type": "markdown",
   "metadata": {},
   "source": [
    "Stačilo by upravit odpověď uživatele a odstranit z ní možné záludnosti a pak ji teprve porovnávat."
   ]
  },
  {
   "cell_type": "code",
   "execution_count": null,
   "metadata": {
    "collapsed": true
   },
   "outputs": [],
   "source": [
    "def odpoved_uzivatele(odpoved):\n",
    "    odpoved = odpoved.strip()  # Odstranime mozne mezery ze zacatku i z konce odpovedi\n",
    "    odpoved = odpoved.lower()  # Prevedeme na mala pismena\n",
    "    if odpoved == 'ano' or odpoved == 'a':\n",
    "        return True\n",
    "    elif odpoved == 'ne' or odpoved == 'n':\n",
    "        return False"
   ]
  },
  {
   "cell_type": "markdown",
   "metadata": {},
   "source": [
    "## Písmeno \"k\" v textu písně"
   ]
  },
  {
   "cell_type": "markdown",
   "metadata": {},
   "source": [
    "K tomuto účastnice napsala, že takovéto vypracování nefunguje, pokud píseň začíná písmenem \"k\". Uhádneš proč se jí to takto chovalo?"
   ]
  },
  {
   "cell_type": "code",
   "execution_count": null,
   "metadata": {},
   "outputs": [],
   "source": [
    "text = \"\"\"My girl, my girl, don't lie to me,\n",
    "Tell me where did you sleep last night.\n",
    "In the pines, in the pines,\n",
    "Where the sun don't ever shine.\n",
    "I would shiver the whole night through...\"\"\"\n",
    "print (\"Písmeno k je v textu použito\",text.count(\"k\"),\"krát.\")"
   ]
  },
  {
   "cell_type": "markdown",
   "metadata": {},
   "source": [
    "## Tipni příjmení"
   ]
  },
  {
   "cell_type": "markdown",
   "metadata": {},
   "source": [
    "Je v tomto příkladu něco, co by se dalo napsat lépe a tím kód udělat přehlednější?"
   ]
  },
  {
   "cell_type": "code",
   "execution_count": null,
   "metadata": {},
   "outputs": [],
   "source": [
    "prijmeni = input('Zadej příjmení ')\n",
    "if ('ová' in prijmeni) == True:\n",
    "    print ('žena')\n",
    "else:\n",
    "    print ('muž')"
   ]
  },
  {
   "cell_type": "markdown",
   "metadata": {},
   "source": [
    "## Obecné rady a doporučení"
   ]
  },
  {
   "cell_type": "markdown",
   "metadata": {},
   "source": [
    "- Domácí projekt odevzdaly do pondělních osmnácti hodin jen **čtyři** účastnice\n",
    "- **Pokud je nebudete dělat, nemůžete úspěšně absolvovat kurz**\n",
    "- Připravit kvalitní feedback pár hodin před kurzem je nemožné (tento dělám místo oběda na školení hasičů)\n",
    "- Pokud potřebujete akutní pomoc, nepište to do komentářů, ale napište email přímo některému z koučů"
   ]
  }
 ],
 "metadata": {
  "kernelspec": {
   "display_name": "Python 3",
   "language": "python",
   "name": "python3"
  },
  "language_info": {
   "codemirror_mode": {
    "name": "ipython",
    "version": 3
   },
   "file_extension": ".py",
   "mimetype": "text/x-python",
   "name": "python",
   "nbconvert_exporter": "python",
   "pygments_lexer": "ipython3",
   "version": "3.6.2"
  }
 },
 "nbformat": 4,
 "nbformat_minor": 2
}
